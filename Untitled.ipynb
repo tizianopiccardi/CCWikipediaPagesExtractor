{
 "cells": [
  {
   "cell_type": "code",
   "execution_count": 29,
   "metadata": {},
   "outputs": [],
   "source": [
    "import pyspark\n",
    "import pyspark.sql\n",
    "from pyspark.sql import *\n",
    "from pyspark.sql.functions import *\n",
    "import json\n",
    "import urllib\n",
    "import argparse\n",
    "\n",
    "\n",
    "conf = pyspark.SparkConf().setMaster(\"local[*]\").setAll([\n",
    "                                   ('spark.driver.memory','8g')    \n",
    "                                  ])\n",
    "\n",
    "# conf = pyspark.SparkConf().setMaster(\"yarn\")\n",
    "\n",
    "# create the session\n",
    "spark = SparkSession.builder.config(conf=conf).getOrCreate()\n",
    "# create the context\n",
    "sc = spark.sparkContext"
   ]
  },
  {
   "cell_type": "code",
   "execution_count": 30,
   "metadata": {},
   "outputs": [
    {
     "data": {
      "text/plain": [
       "DataFrame[url: string, content: string]"
      ]
     },
     "execution_count": 30,
     "metadata": {},
     "output_type": "execute_result"
    }
   ],
   "source": [
    "files = spark.read.parquet(\"out.parquet\")\n",
    "files"
   ]
  },
  {
   "cell_type": "code",
   "execution_count": 31,
   "metadata": {},
   "outputs": [
    {
     "data": {
      "text/plain": [
       "515"
      ]
     },
     "execution_count": 31,
     "metadata": {},
     "output_type": "execute_result"
    }
   ],
   "source": [
    "files.count()"
   ]
  },
  {
   "cell_type": "code",
   "execution_count": 32,
   "metadata": {},
   "outputs": [],
   "source": [
    "test = files.take(1)"
   ]
  },
  {
   "cell_type": "code",
   "execution_count": 33,
   "metadata": {},
   "outputs": [
    {
     "data": {
      "text/plain": [
       "7653"
      ]
     },
     "execution_count": 33,
     "metadata": {},
     "output_type": "execute_result"
    }
   ],
   "source": [
    "len(test[0].content)"
   ]
  },
  {
   "cell_type": "code",
   "execution_count": 34,
   "metadata": {},
   "outputs": [],
   "source": [
    "files.toPandas().to_json(\"out.json\", lines=True, orient=\"records\")"
   ]
  },
  {
   "cell_type": "code",
   "execution_count": 35,
   "metadata": {},
   "outputs": [
    {
     "name": "stdout",
     "output_type": "stream",
     "text": [
      "+----------------------------------------------------------------------------------------------------------------------------------------------------------------------------------------------+-------+\n",
      "|url                                                                                                                                                                                           |l      |\n",
      "+----------------------------------------------------------------------------------------------------------------------------------------------------------------------------------------------+-------+\n",
      "|http://focus.cs.unibo.it/bin/rdiff/TWiki/TWikiDocumentation?sortcol=0&table=68&up=0                                                                                                           |1048576|\n",
      "|http://101.datascience.community/2012/04/09/colleges-with-data-science-degrees?like_comment=10120&replytocom=4746                                                                             |1048460|\n",
      "|http://urbanismopatasarriba.blogspot.com/2013_09_12_archive.html?action=toggle&dir=open&toggle=DAILY-1348264800000&toggleopen=DAILY-1378936800000&widgetId=BlogArchive1&widgetType=BlogArchive|1048412|\n",
      "|http://urbanismopatasarriba.blogspot.com/2013_05_26_archive.html?action=toggle&dir=open&toggle=DAILY-1378072800000&toggleopen=DAILY-1369519200000&widgetId=BlogArchive1&widgetType=BlogArchive|1048399|\n",
      "|http://urbanismopatasarriba.blogspot.com/2013_03_01_archive.html?action=toggle&dir=open&toggle=DAILY-1385852400000&toggleopen=DAILY-1362092400000&widgetId=BlogArchive1&widgetType=BlogArchive|1048371|\n",
      "|http://urbanismopatasarriba.blogspot.com/2013_05_01_archive.html?action=toggle&dir=open&toggle=DAILY-1385420400000&toggleopen=DAILY-1367359200000&widgetId=BlogArchive1&widgetType=BlogArchive|1048370|\n",
      "|http://urbanismopatasarriba.blogspot.com/2012_06_03_archive.html?action=toggle&dir=open&toggle=DAILY-1310767200000&toggleopen=DAILY-1338674400000&widgetId=BlogArchive1&widgetType=BlogArchive|1048277|\n",
      "|http://thelastdrivein.com/category/classic-sci-fi/the-lost-missile-1958                                                                                                                       |1048213|\n",
      "|http://m.mplay3.fr/johnny_hallyday?dve_trk_id=dbe148e9-8c03-41a6-9f56-8de1cd9205dd                                                                                                            |1048184|\n",
      "|http://studyres.com/doc/5839929?page=223                                                                                                                                                      |1048166|\n",
      "|http://hmpsti.unpar.ac.id/e-lecture-kalkulus-2-integral-parsial?replytocom=14538                                                                                                              |1048023|\n",
      "|http://bravenewclimate.com/2011/06/29/open-thread-17?_wpnonce=4d02946ae3&like_comment=131541                                                                                                  |1047582|\n",
      "|http://melchiormeijer.wordpress.com/2013/12/19/wordt-honig-aardappelzetmeel-de-paleo-hack-van-2013?replytocom=18424                                                                           |1047262|\n",
      "|http://www.dolezite.sk/Peniaze-cirkvi-a-stat-JmPOR1.html                                                                                                                                      |1045060|\n",
      "|http://urbanismodemalaga.blogspot.com/2011_07_04_archive.html                                                                                                                                 |964508 |\n",
      "|http://urbanismodemalaga.blogspot.com/2014_07_01_archive.html                                                                                                                                 |845728 |\n",
      "|http://www.afriact.com/france-rwanda-le-faux-pas-de-macron                                                                                                                                    |810176 |\n",
      "|http://thebritishberliner.wordpress.com/category/british-in-berlin                                                                                                                            |770356 |\n",
      "|http://romancescamsnow.com/dating-scams/scarsrsn-insights-scam-victim-saviors                                                                                                                 |766115 |\n",
      "|http://newsreviews-1.blogspot.com/2015/09?m=0                                                                                                                                                 |702678 |\n",
      "+----------------------------------------------------------------------------------------------------------------------------------------------------------------------------------------------+-------+\n",
      "only showing top 20 rows\n",
      "\n"
     ]
    }
   ],
   "source": [
    "files.selectExpr(\"*\", \"LENGTH(content) as l\").sort(col(\"l\").desc()).select('url', 'l').show(truncate=False)"
   ]
  },
  {
   "cell_type": "code",
   "execution_count": null,
   "metadata": {},
   "outputs": [],
   "source": []
  }
 ],
 "metadata": {
  "kernelspec": {
   "display_name": "Python 3",
   "language": "python",
   "name": "python3"
  },
  "language_info": {
   "codemirror_mode": {
    "name": "ipython",
    "version": 3
   },
   "file_extension": ".py",
   "mimetype": "text/x-python",
   "name": "python",
   "nbconvert_exporter": "python",
   "pygments_lexer": "ipython3",
   "version": "3.7.9"
  }
 },
 "nbformat": 4,
 "nbformat_minor": 4
}
